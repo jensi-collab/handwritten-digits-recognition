{
 "cells": [
  {
   "cell_type": "code",
   "execution_count": 1,
   "metadata": {},
   "outputs": [],
   "source": [
    "from __future__ import print_function  \n",
    "# for Python2 compatibility "
   ]
  },
  {
   "cell_type": "code",
   "execution_count": 2,
   "metadata": {},
   "outputs": [],
   "source": [
    "import numpy \n",
    "numpy.random.seed(1337)   # for experiment reproducibility "
   ]
  },
  {
   "cell_type": "code",
   "execution_count": 3,
   "metadata": {},
   "outputs": [],
   "source": [
    "import keras\n",
    "from keras.models import Sequential\n",
    "from keras.layers import Dense \n",
    "from keras.optimizers import SGD \n",
    "from keras.datasets import mnist"
   ]
  },
  {
   "cell_type": "code",
   "execution_count": 4,
   "metadata": {},
   "outputs": [],
   "source": [
    "num_classes = 10\n",
    "\n",
    "batch_size = 128     \n",
    "epochs = 25"
   ]
  },
  {
   "cell_type": "code",
   "execution_count": 5,
   "metadata": {},
   "outputs": [],
   "source": [
    "# the data, shuffled and split between train and test sets\n",
    "(x_train, y_train), (x_test, y_test) = mnist.load_data()"
   ]
  },
  {
   "cell_type": "code",
   "execution_count": 6,
   "metadata": {},
   "outputs": [
    {
     "name": "stdout",
     "output_type": "stream",
     "text": [
      "(60000, 28, 28) (60000,) (10000, 28, 28) (10000,)\n"
     ]
    }
   ],
   "source": [
    "print(x_train.shape, y_train.shape, x_test.shape, y_test.shape)"
   ]
  },
  {
   "cell_type": "code",
   "execution_count": 7,
   "metadata": {},
   "outputs": [
    {
     "name": "stdout",
     "output_type": "stream",
     "text": [
      "60000 train samples\n",
      "10000 test samples\n"
     ]
    }
   ],
   "source": [
    "x_train = x_train.reshape(60000, 784)  # 28x28 = 784\n",
    "x_test = x_test.reshape(10000, 784)\n",
    "\n",
    "x_train = x_train.astype('float32') \n",
    "x_test = x_test.astype('float32') \n",
    "\n",
    "x_train /= 255  # 0 - 255 ...  0-1 \n",
    "x_test /= 255   # normalizing your data \n",
    "\n",
    "\n",
    "print(x_train.shape[0], 'train samples')\n",
    "print(x_test.shape[0], 'test samples')"
   ]
  },
  {
   "cell_type": "code",
   "execution_count": 8,
   "metadata": {},
   "outputs": [
    {
     "name": "stdout",
     "output_type": "stream",
     "text": [
      "(60000, 784)\n",
      "(60000,)\n"
     ]
    }
   ],
   "source": [
    "print(x_train.shape)\n",
    "print(y_train.shape)"
   ]
  },
  {
   "cell_type": "code",
   "execution_count": 9,
   "metadata": {},
   "outputs": [
    {
     "data": {
      "text/plain": [
       "5"
      ]
     },
     "execution_count": 9,
     "metadata": {},
     "output_type": "execute_result"
    }
   ],
   "source": [
    "y_train[0]"
   ]
  },
  {
   "cell_type": "code",
   "execution_count": 10,
   "metadata": {},
   "outputs": [],
   "source": [
    "# convert class vectors to binary class matrices\n",
    "y_train = keras.utils.to_categorical(y_train, num_classes)\n",
    "y_test = keras.utils.to_categorical(y_test, num_classes)"
   ]
  },
  {
   "cell_type": "code",
   "execution_count": 11,
   "metadata": {},
   "outputs": [
    {
     "data": {
      "text/plain": [
       "array([0., 0., 0., 0., 0., 1., 0., 0., 0., 0.], dtype=float32)"
      ]
     },
     "execution_count": 11,
     "metadata": {},
     "output_type": "execute_result"
    }
   ],
   "source": [
    "y_train[0]"
   ]
  },
  {
   "cell_type": "markdown",
   "metadata": {},
   "source": [
    "That's called a one-hot vector. "
   ]
  },
  {
   "cell_type": "code",
   "execution_count": 12,
   "metadata": {},
   "outputs": [],
   "source": [
    "model = Sequential()"
   ]
  },
  {
   "cell_type": "code",
   "execution_count": 13,
   "metadata": {},
   "outputs": [],
   "source": [
    "model.add( Dense(512, activation='sigmoid', input_shape=(784,)  ) )\n",
    "model.add( Dense(512, activation='sigmoid'  ) )\n",
    "model.add( Dense(num_classes, activation='softmax'))"
   ]
  },
  {
   "cell_type": "code",
   "execution_count": 14,
   "metadata": {},
   "outputs": [
    {
     "name": "stdout",
     "output_type": "stream",
     "text": [
      "Model: \"sequential\"\n",
      "_________________________________________________________________\n",
      "Layer (type)                 Output Shape              Param #   \n",
      "=================================================================\n",
      "dense (Dense)                (None, 512)               401920    \n",
      "_________________________________________________________________\n",
      "dense_1 (Dense)              (None, 512)               262656    \n",
      "_________________________________________________________________\n",
      "dense_2 (Dense)              (None, 10)                5130      \n",
      "=================================================================\n",
      "Total params: 669,706\n",
      "Trainable params: 669,706\n",
      "Non-trainable params: 0\n",
      "_________________________________________________________________\n"
     ]
    }
   ],
   "source": [
    "# What does the model look like? \n",
    "model.summary()"
   ]
  },
  {
   "cell_type": "code",
   "execution_count": 15,
   "metadata": {},
   "outputs": [],
   "source": [
    "# Compile the model \n",
    "model.compile(loss='categorical_crossentropy', optimizer=SGD(), \n",
    "              metrics=['accuracy'])"
   ]
  },
  {
   "cell_type": "code",
   "execution_count": 16,
   "metadata": {
    "scrolled": true
   },
   "outputs": [
    {
     "name": "stdout",
     "output_type": "stream",
     "text": [
      "Epoch 1/25\n",
      "469/469 [==============================] - 6s 12ms/step - loss: 2.2667 - accuracy: 0.2155 - val_loss: 2.2238 - val_accuracy: 0.3040\n",
      "Epoch 2/25\n",
      "469/469 [==============================] - 5s 11ms/step - loss: 2.1797 - accuracy: 0.4027 - val_loss: 2.1281 - val_accuracy: 0.4262\n",
      "Epoch 3/25\n",
      "469/469 [==============================] - 5s 11ms/step - loss: 2.0644 - accuracy: 0.5394 - val_loss: 1.9847 - val_accuracy: 0.5382\n",
      "Epoch 4/25\n",
      "469/469 [==============================] - 5s 11ms/step - loss: 1.8950 - accuracy: 0.6078 - val_loss: 1.7772 - val_accuracy: 0.6518\n",
      "Epoch 5/25\n",
      "469/469 [==============================] - 5s 11ms/step - loss: 1.6668 - accuracy: 0.6614 - val_loss: 1.5256 - val_accuracy: 0.7213\n",
      "Epoch 6/25\n",
      "469/469 [==============================] - 5s 11ms/step - loss: 1.4194 - accuracy: 0.7111 - val_loss: 1.2885 - val_accuracy: 0.7425\n",
      "Epoch 7/25\n",
      "469/469 [==============================] - 5s 11ms/step - loss: 1.2025 - accuracy: 0.7475 - val_loss: 1.0938 - val_accuracy: 0.7856\n",
      "Epoch 8/25\n",
      "469/469 [==============================] - 5s 11ms/step - loss: 1.0333 - accuracy: 0.7754 - val_loss: 0.9461 - val_accuracy: 0.7885\n",
      "Epoch 9/25\n",
      "469/469 [==============================] - 5s 11ms/step - loss: 0.9063 - accuracy: 0.7944 - val_loss: 0.8381 - val_accuracy: 0.8069\n",
      "Epoch 10/25\n",
      "469/469 [==============================] - 5s 11ms/step - loss: 0.8104 - accuracy: 0.8091 - val_loss: 0.7556 - val_accuracy: 0.8196\n",
      "Epoch 11/25\n",
      "469/469 [==============================] - 5s 11ms/step - loss: 0.7369 - accuracy: 0.8220 - val_loss: 0.6890 - val_accuracy: 0.8318\n",
      "Epoch 12/25\n",
      "469/469 [==============================] - 5s 11ms/step - loss: 0.6791 - accuracy: 0.8316 - val_loss: 0.6378 - val_accuracy: 0.8413\n",
      "Epoch 13/25\n",
      "469/469 [==============================] - 5s 11ms/step - loss: 0.6330 - accuracy: 0.8400 - val_loss: 0.5972 - val_accuracy: 0.8459\n",
      "Epoch 14/25\n",
      "469/469 [==============================] - 5s 11ms/step - loss: 0.5956 - accuracy: 0.8465 - val_loss: 0.5632 - val_accuracy: 0.8551\n",
      "Epoch 15/25\n",
      "469/469 [==============================] - 5s 11ms/step - loss: 0.5647 - accuracy: 0.8529 - val_loss: 0.5359 - val_accuracy: 0.8580\n",
      "Epoch 16/25\n",
      "469/469 [==============================] - 5s 12ms/step - loss: 0.5389 - accuracy: 0.8575 - val_loss: 0.5111 - val_accuracy: 0.8642\n",
      "Epoch 17/25\n",
      "469/469 [==============================] - 5s 11ms/step - loss: 0.5170 - accuracy: 0.8623 - val_loss: 0.4917 - val_accuracy: 0.8684\n",
      "Epoch 18/25\n",
      "469/469 [==============================] - 5s 10ms/step - loss: 0.4982 - accuracy: 0.8672 - val_loss: 0.4733 - val_accuracy: 0.8726\n",
      "Epoch 19/25\n",
      "469/469 [==============================] - 5s 11ms/step - loss: 0.4819 - accuracy: 0.8703 - val_loss: 0.4590 - val_accuracy: 0.8753\n",
      "Epoch 20/25\n",
      "469/469 [==============================] - 5s 11ms/step - loss: 0.4675 - accuracy: 0.8741 - val_loss: 0.4449 - val_accuracy: 0.8796\n",
      "Epoch 21/25\n",
      "469/469 [==============================] - 5s 11ms/step - loss: 0.4550 - accuracy: 0.8770 - val_loss: 0.4332 - val_accuracy: 0.8821\n",
      "Epoch 22/25\n",
      "469/469 [==============================] - 5s 11ms/step - loss: 0.4438 - accuracy: 0.8793 - val_loss: 0.4239 - val_accuracy: 0.8846\n",
      "Epoch 23/25\n",
      "469/469 [==============================] - 5s 11ms/step - loss: 0.4338 - accuracy: 0.8809 - val_loss: 0.4140 - val_accuracy: 0.8867\n",
      "Epoch 24/25\n",
      "469/469 [==============================] - 5s 11ms/step - loss: 0.4250 - accuracy: 0.8835 - val_loss: 0.4065 - val_accuracy: 0.8873\n",
      "Epoch 25/25\n",
      "469/469 [==============================] - 5s 10ms/step - loss: 0.4171 - accuracy: 0.8844 - val_loss: 0.3987 - val_accuracy: 0.8904\n"
     ]
    }
   ],
   "source": [
    "# let's perform the learning \n",
    "history = model.fit( x_train, y_train, \n",
    "           batch_size=batch_size,\n",
    "           epochs=epochs, \n",
    "           verbose=1, \n",
    "           validation_data=(x_test, y_test))"
   ]
  },
  {
   "cell_type": "code",
   "execution_count": 17,
   "metadata": {},
   "outputs": [
    {
     "name": "stdout",
     "output_type": "stream",
     "text": [
      "313/313 [==============================] - 1s 3ms/step - loss: 0.3987 - accuracy: 0.8904\n"
     ]
    }
   ],
   "source": [
    "# Let's evaluate the model \n",
    "score = model.evaluate(x_test, y_test)"
   ]
  },
  {
   "cell_type": "code",
   "execution_count": 18,
   "metadata": {},
   "outputs": [
    {
     "data": {
      "text/plain": [
       "0.8903999924659729"
      ]
     },
     "execution_count": 18,
     "metadata": {},
     "output_type": "execute_result"
    }
   ],
   "source": [
    "score[2]"
   ]
  }
 ],
 "metadata": {
  "kernelspec": {
   "display_name": "Python 3",
   "language": "python",
   "name": "python3"
  },
  "language_info": {
   "codemirror_mode": {
    "name": "ipython",
    "version": 3
   },
   "file_extension": ".py",
   "mimetype": "text/x-python",
   "name": "python",
   "nbconvert_exporter": "python",
   "pygments_lexer": "ipython3",
   "version": "3.8.3"
  }
 },
 "nbformat": 4,
 "nbformat_minor": 2
}
